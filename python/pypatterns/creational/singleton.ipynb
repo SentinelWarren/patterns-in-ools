{
 "cells": [
  {
   "cell_type": "markdown",
   "metadata": {},
   "source": [
    "This notebook was prepared by [SentinelWarren](https://github.com/sentinelwarren). Source and license info is on [GitHub](https://github.com/SentinelWarren/patterns-in-ools)."
   ]
  },
  {
   "cell_type": "markdown",
   "metadata": {},
   "source": [
    "# Singleton Pattern"
   ]
  },
  {
   "cell_type": "markdown",
   "metadata": {},
   "source": [
    "## Description\n",
    "\n",
    "Is a way to provide one and only one object of a particular type. The Singleton class can have only one instance, and provides global access to that one instance.\n",
    "\n",
    "Due to its instantiation restrictions of a class to one object, this pattern is useful when you need one object to coordinate actions for the system.\n",
    "\n",
    "The basic idea is that only one instance of a particular class, doing a job, is created for the needs of the program. To ensure that this works, we need mechanisms that prevent the instantiation of the class more than once and also prevent cloning."
   ]
  },
  {
   "cell_type": "markdown",
   "metadata": {},
   "source": [
    "## Singleton in the wild\n",
    "\n",
    "Singleton pattern can be used to implement projects that do not affect the execution of code, hence its acceptable to use global state. The kinds of projects are;\n",
    "\n",
    "* Logging\n",
    "* Caching\n",
    "* Load balancing\n",
    "* Route mapping\n",
    "* A single Database object\n",
    "\n",
    "In all these cases,information flows in one direction, and the singleton instance itself is immutable (it does not change).\n",
    "No part of the program attempts to make a change in the singleton, and as such there is no danger of one part of a project interfering with another part of the project because of the shared state.\n",
    "\n",
    "### Example projects\n",
    "\n",
    "* Plone CMS"
   ]
  },
  {
   "cell_type": "markdown",
   "metadata": {},
   "source": [
    "## Pros & Cons\n",
    "\n",
    "### Pros\n",
    "\n",
    "* Access to global state, making a Singleton instance to be immutable.\n",
    "* The singleton object is initialized only when it’s requested for the first time.\n",
    "* Assurance that a class has only a single instance.\n",
    "\n",
    "### Cons | Drawbacks\n",
    "\n",
    "* Violates the Single Responsibility Principle\n",
    "* Possibility of coupling your code to itself in very unfortunate ways, causing unexpected results in completely unrelated piece of code.\n",
    "* The pattern requires special treatment in a multithreaded environment so that multiple threads won’t create a singleton object several times."
   ]
  },
  {
   "cell_type": "markdown",
   "metadata": {},
   "source": [
    "## Use cases\n",
    "\n",
    "* Maintaining a global state of a program\n",
    "\n",
    "* Controlling concurrent access to a shared resource. For example, the class managing the connection to a database.\n",
    "\n",
    "* A service or resource that is transversal in the sense that it can be accessed from different parts of the application or by different users and do its work. For example, the class at the core of the logging system or utility."
   ]
  },
  {
   "cell_type": "markdown",
   "metadata": {},
   "source": [
    "## Implementation\n",
    "\n",
    "* Using metaclass and its type, having predefined the `Singleton` metaclass.\n",
    "* As required, the metaclass's `__call__()` method holds the code that ensures that only one instance of the class can be created.\n",
    "\n",
    "### Test cases\n",
    "\n",
    "#### Unit\n",
    "\n",
    "* `len(SingletonClass().instances) == 0`\n",
    "* `SingletonClass() == SingletonClass()`\n",
    "* `SingletonClass().attributes == SingletonClass().attributes`\n",
    "* `len(SingletonClass().instances) == 1`\n",
    "* `len(SingletonClass().instances) >= 1`\n",
    "\n",
    "#### Functional\n",
    "\n",
    "* `Singleton().instances['invalid'] raise KeyError`"
   ]
  },
  {
   "cell_type": "code",
   "execution_count": 70,
   "metadata": {},
   "outputs": [
    {
     "name": "stdout",
     "output_type": "stream",
     "text": [
      "Overwriting singleton.py\n"
     ]
    }
   ],
   "source": [
    "%%writefile singleton.py\n",
    "\"\"\"Singleton Pattern sample code.\n",
    "\n",
    "Intent: Lets you ensure that a class has only one instance, while providing a\n",
    "global access point to this instance. One instance per each subclass (if any).\n",
    "\"\"\"\n",
    "from typing import Dict\n",
    "\n",
    "\n",
    "class SingletonMeta(type):\n",
    "    \"\"\"Singleton metaclass\n",
    "    \n",
    "    The Singleton class can be implemented in different ways in Python.\n",
    "    Possible methods include: base class, decorator, metaclass.\n",
    "    \"\"\"\n",
    "    _instances: Dict[str, object] = {}\n",
    "\n",
    "    def __call__(cls, *args: object, **kwargs: object) -> object:\n",
    "        if str(cls) not in cls._instances:\n",
    "            cls._instances[str(cls)] = super(SingletonMeta,\n",
    "                                             cls).__call__(*args, **kwargs)\n",
    "\n",
    "        return cls._instances[str(cls)]\n",
    "\n",
    "    @staticmethod\n",
    "    def get_instances():\n",
    "        \"\"\"Returns SingletonMeta _instances\"\"\"\n",
    "        return SingletonMeta._instances\n",
    "\n",
    "\n",
    "class FooTone(metaclass=SingletonMeta):\n",
    "    \"\"\"Client class\"\"\"\n",
    "\n",
    "    def __init__(self, arg: str) -> None:\n",
    "        self.attribute = arg\n",
    "\n",
    "    def some_method(self):\n",
    "        \"\"\"Some method implemanting business logic,\n",
    "        which can be executed on its instance.\"\"\"\n",
    "\n",
    "    def __repr__(self) -> str:\n",
    "        return (\n",
    "            f\"<class {self.__class__.__name__}(\"\n",
    "            f\"{self.attribute!r}) \"\n",
    "            f\"at {hex(id(self))}>\"\n",
    "        )\n"
   ]
  },
  {
   "cell_type": "markdown",
   "metadata": {},
   "source": [
    "## Tests\n",
    "\n",
    "Using `pytest`"
   ]
  },
  {
   "cell_type": "code",
   "execution_count": 66,
   "metadata": {},
   "outputs": [
    {
     "name": "stdout",
     "output_type": "stream",
     "text": [
      "Overwriting ../../tests/unit/test_singleton.py\n"
     ]
    }
   ],
   "source": [
    "%%writefile ../../tests/unit/test_singleton.py\n",
    "\"\"\"Testing singleton module\"\"\"\n",
    "from pypatterns import singleton, logging\n",
    "\n",
    "\n",
    "singleton_instances = singleton.SingletonMeta.get_instances()\n",
    "FOO_CLASS = \"<class 'pypatterns.creational.singleton.FooTone'>\"\n",
    "LOGGER_CLASS = \"<class 'pypatterns.examples.creational.logging.Logger'>\"\n",
    "\n",
    "def instantiate_foo(arg):\n",
    "    \"\"\"Instantiate singleton.FooTone class\"\"\"\n",
    "    return singleton.FooTone(arg)\n",
    "\n",
    "def instantiate_logger(arg):\n",
    "    \"\"\"Instantiate logging.Logger class\"\"\"\n",
    "    return logging.Logger(arg)\n",
    "\n",
    "def delete_instance(name):\n",
    "    \"\"\"Delete an instance in singleton.SingletonMeta\"\"\"\n",
    "    if name in singleton_instances:\n",
    "        del singleton_instances[name]\n",
    "\n",
    "def test_global_state():\n",
    "    \"\"\"Test Singleton global state\"\"\"\n",
    "    foo1 = instantiate_foo(\"some_attr\")\n",
    "    foo2 = instantiate_foo(\"diff_attr\")\n",
    "    assert foo1 is foo2\n",
    "    assert foo1.attribute == foo2.attribute\n",
    "\n",
    "    foo2.attribute = \"another_attr\"\n",
    "    assert foo1.attribute == foo2.attribute\n",
    "\n",
    "def test_empty_instances():\n",
    "    \"\"\"Test empty singleton.Singleton._instances\"\"\"\n",
    "    singleton_instances.clear()\n",
    "\n",
    "    assert len(singleton_instances) == 0\n",
    "    assert LOGGER_CLASS, FOO_CLASS not in singleton_instances\n",
    "\n",
    "def test_all_added_instances():\n",
    "    \"\"\"Test all added instances in singleton.Singleton._instances\"\"\"\n",
    "    if LOGGER_CLASS not in singleton_instances:\n",
    "        instantiate_logger(\"file.log\")\n",
    "\n",
    "    if FOO_CLASS not in singleton_instances:\n",
    "        instantiate_foo(\"some_attr\")\n",
    "\n",
    "    assert len(singleton_instances) == 2\n",
    "    assert FOO_CLASS, LOGGER_CLASS in singleton_instances\n",
    "\n",
    "def test_logger_instance():\n",
    "    \"\"\"Test only logging.Logger instance in singleton.Singleton._instances\"\"\"\n",
    "    delete_instance(FOO_CLASS)\n",
    "\n",
    "    assert len(singleton_instances) == 1\n",
    "    assert LOGGER_CLASS in singleton_instances\n",
    "\n",
    "def test_foo_instance():\n",
    "    \"\"\"Test only singleton.FooTone instance in singleton.Singleton._instances\"\"\"\n",
    "    instantiate_foo(\"some_attr\")\n",
    "    delete_instance(LOGGER_CLASS)\n",
    "\n",
    "    assert len(singleton_instances) == 1\n",
    "    assert FOO_CLASS in singleton_instances"
   ]
  },
  {
   "cell_type": "code",
   "execution_count": 67,
   "metadata": {},
   "outputs": [
    {
     "name": "stdout",
     "output_type": "stream",
     "text": [
      "Overwriting ../../tests/func/test_singleton_exceptions.py\n"
     ]
    }
   ],
   "source": [
    "%%writefile ../../tests/func/test_singleton_exceptions.py\n",
    "\"\"\"Testing singleton.SingletonMeta exceptions\"\"\"\n",
    "from pypatterns import singleton\n",
    "from pytest import raises\n",
    "\n",
    "def test_instances_raises():\n",
    "    \"\"\"Test KeyError exception\"\"\"\n",
    "    with raises(KeyError):\n",
    "        instances = singleton.SingletonMeta.get_instances()\n",
    "        instances['invalid-key']"
   ]
  },
  {
   "cell_type": "code",
   "execution_count": 1,
   "metadata": {},
   "outputs": [
    {
     "name": "stdout",
     "output_type": "stream",
     "text": [
      "......                                                                   [100%]\n",
      "6 passed in 0.06s\n"
     ]
    }
   ],
   "source": [
    "%run -m pytest ../../tests/unit/test_singleton.py ../../tests/func/test_singleton_exceptions.py"
   ]
  },
  {
   "cell_type": "markdown",
   "metadata": {},
   "source": [
    "# Project implementation\n",
    "\n",
    "A simple project implementation using the Singleton pattern."
   ]
  },
  {
   "cell_type": "markdown",
   "metadata": {},
   "source": [
    "## `logger.py`\n",
    "\n",
    "A simple logging module that keeps track of the `.log` file state, writes specific logging messages to the log file accordingly, and reads the contents of the log file."
   ]
  },
  {
   "cell_type": "code",
   "execution_count": 68,
   "metadata": {},
   "outputs": [
    {
     "name": "stdout",
     "output_type": "stream",
     "text": [
      "Overwriting ../examples/creational/logging.py\n"
     ]
    }
   ],
   "source": [
    "%%writefile ../examples/creational/logging.py\n",
    "\"\"\"Example implementation of Singleton Pattern\"\"\"\n",
    "from typing import Any\n",
    "from pypatterns import singleton\n",
    "\n",
    "\n",
    "class Logger(metaclass=singleton.SingletonMeta):\n",
    "    \"\"\"Logger class using Singleton pattern\"\"\"\n",
    "    def __init__(self, file_name: str) -> None:\n",
    "        self.file_name = file_name\n",
    "\n",
    "    def _write_log(self, level: str, msg: Any) -> None:\n",
    "        \"\"\"Write a logging message depending on the level\n",
    "        to the global log file\"\"\"\n",
    "        with open(self.file_name, \"a\", encoding='utf-8') as log_file:\n",
    "            log_file.write(f\"[{level}] {msg}\\n\")\n",
    "\n",
    "    def critical(self, msg: Any) -> None:\n",
    "        \"\"\"Log message of level critical\"\"\"\n",
    "        self._write_log('CRITICAL', msg)\n",
    "    \n",
    "    def error(self, msg: Any) -> None:\n",
    "        \"\"\"Log message of level error\"\"\"\n",
    "        self._write_log('ERROR', msg)\n",
    "\n",
    "    def warn(self, msg: Any) -> None:\n",
    "        \"\"\"Log message of level warning\"\"\"\n",
    "        self._write_log('WARNING', msg)\n",
    "\n",
    "    def info(self, msg: Any) -> None:\n",
    "        \"\"\"Log message of level info\"\"\"\n",
    "        self._write_log('INFO', msg)\n",
    "\n",
    "    def debug(self, msg: Any) -> None:\n",
    "        \"\"\"Log message of level debug\"\"\"\n",
    "        self._write_log('DEBUG', msg)\n",
    "\n",
    "    def read_log(self) -> str:\n",
    "        \"\"\"Read the global log file\"\"\"\n",
    "        with open(self.file_name, \"r\", encoding='utf-8') as log_file:\n",
    "            return log_file.read()\n",
    "\n",
    "    def print_log(self) -> None:\n",
    "        \"\"\"Print the log output to the console\"\"\"\n",
    "        print(self.read_log())\n",
    "\n",
    "    def __repr__(self) -> str:\n",
    "        return (\n",
    "            f\"<class {self.__class__.__name__}(\"\n",
    "            f\"{self.file_name!r}) \"\n",
    "            f\"at {hex(id(self))}>\"\n",
    "        )\n",
    "\n",
    "\n",
    "\n",
    "if __name__ == '__main__':\n",
    "    logger = Logger(\"class_logger.log\")\n",
    "    logger.warn('AE-35 hardware failure predicted!')\n",
    "    logger.print_log()\n",
    "    "
   ]
  },
  {
   "cell_type": "markdown",
   "metadata": {},
   "source": [
    "## Functional Test\n",
    "\n",
    "Using `pytest`"
   ]
  },
  {
   "cell_type": "code",
   "execution_count": 69,
   "metadata": {},
   "outputs": [
    {
     "name": "stdout",
     "output_type": "stream",
     "text": [
      "Overwriting ../../tests/func/test_logger.py\n"
     ]
    }
   ],
   "source": [
    "%%writefile ../../tests/func/test_logger.py\n",
    "\"\"\"Testing logging.Logger functionality\"\"\"\n",
    "from pypatterns import logging\n",
    "\n",
    "\n",
    "def test_methods_return(tmpdir_factory):\n",
    "    \"\"\"Test logging.Logger methods return\"\"\"\n",
    "    tmp = tmpdir_factory.mktemp(\"func\")\n",
    "    log = logging.Logger(tmp.join(\"logger.log\"))\n",
    "    expected = None\n",
    "\n",
    "    assert log.critical(\"This is a critical message\") == expected\n",
    "    assert log.error(\"This is an error message\") == expected\n",
    "    assert log.warn(\"This is a warning message\") == expected\n",
    "    assert log.info(\"This is an info message\") == expected\n",
    "    assert log.debug(\"This is a debugging message\") == expected\n",
    "    assert log.print_log() == expected\n",
    "\n",
    "def test_log_output():\n",
    "    \"\"\"Test log file output\"\"\"\n",
    "    expected_log = (\n",
    "        \"[CRITICAL] This is a critical message\\n\"\n",
    "        \"[ERROR] This is an error message\\n\"\n",
    "        \"[WARNING] This is a warning message\\n\"\n",
    "        \"[INFO] This is an info message\\n\"\n",
    "        \"[DEBUG] This is a debugging message\\n\"\n",
    "    )\n",
    "    assert logging.Logger(\"logger.log\").read_log() == expected_log"
   ]
  },
  {
   "cell_type": "code",
   "execution_count": 1,
   "metadata": {},
   "outputs": [
    {
     "name": "stdout",
     "output_type": "stream",
     "text": [
      "..                                                                       [100%]\n",
      "2 passed in 0.03s\n"
     ]
    }
   ],
   "source": [
    "%run -m pytest ../../tests/func/test_logger.py"
   ]
  }
 ],
 "metadata": {
  "interpreter": {
   "hash": "916dbcbb3f70747c44a77c7bcd40155683ae19c65e1c03b4aa3499c5328201f1"
  },
  "kernelspec": {
   "display_name": "Python 3.8.5 64-bit",
   "name": "python3"
  },
  "language_info": {
   "codemirror_mode": {
    "name": "ipython",
    "version": 3
   },
   "file_extension": ".py",
   "mimetype": "text/x-python",
   "name": "python",
   "nbconvert_exporter": "python",
   "pygments_lexer": "ipython3",
   "version": "3.8.5"
  },
  "orig_nbformat": 4
 },
 "nbformat": 4,
 "nbformat_minor": 2
}
