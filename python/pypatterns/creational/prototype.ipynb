{
 "cells": [
  {
   "cell_type": "markdown",
   "metadata": {},
   "source": [
    "This notebook was prepared by [SentinelWarren](https://github.com/sentinelwarren). Source and license info is on [GitHub](https://github.com/SentinelWarren/patterns-in-ools)."
   ]
  },
  {
   "cell_type": "markdown",
   "metadata": {},
   "source": [
    "# Prototype Pattern"
   ]
  },
  {
   "cell_type": "markdown",
   "metadata": {},
   "source": [
    "## Description\n",
    "\n",
    "Is just a `clone()` function that accepts an object as an input parameter and returns a clone of it."
   ]
  },
  {
   "cell_type": "markdown",
   "metadata": {},
   "source": [
    "## Prototype in the wild\n",
    "\n",
    "### Example projects"
   ]
  },
  {
   "cell_type": "markdown",
   "metadata": {},
   "source": [
    "## Pros & Cons\n",
    "\n",
    "### Pros\n",
    "\n",
    "### Cons | Drawbacks"
   ]
  },
  {
   "cell_type": "markdown",
   "metadata": {},
   "source": [
    "## Use cases"
   ]
  },
  {
   "cell_type": "markdown",
   "metadata": {},
   "source": [
    "## Implementation\n",
    "\n",
    "### Test cases\n",
    "\n",
    "#### Unit\n",
    "\n",
    "* `ids in Prototype.objects`\n",
    "* `Prototype.objects[id] != Prototype.objects[id]`\n",
    "* `'' not in Prototype.objects`\n",
    "* `key not in Prototype.objects`\n",
    "* `len(Prototype.objects) == 0`\n",
    "\n",
    "#### Functional\n",
    "\n",
    "* `Prototype().objects['invalid'] raise KeyError`\n",
    "* `Prototype().clone['invalid'] raise ValueError`"
   ]
  },
  {
   "cell_type": "code",
   "execution_count": 2,
   "metadata": {},
   "outputs": [
    {
     "name": "stdout",
     "output_type": "stream",
     "text": [
      "Overwriting prototype.py\n"
     ]
    }
   ],
   "source": [
    "%%writefile prototype.py\n",
    "\"Prototype pattern Sample Code\"\n",
    "from abc import ABCMeta, abstractmethod\n",
    "from typing import Any, Dict\n",
    "from copy import copy, deepcopy\n",
    "\n",
    "\n",
    "class IPrototype(metaclass=ABCMeta):\n",
    "    \"interface with clone method\"\n",
    "    #@staticmethod\n",
    "    @abstractmethod\n",
    "    def clone(self):\n",
    "        \"\"\"The clone method, deep or shallow.\n",
    "        It is up to you how you want to implement\n",
    "        the details in your concrete class\n",
    "        \"\"\"\n",
    "\n",
    "\n",
    "class IPrototype2(metaclass=ABCMeta):\n",
    "    \"interface with clone method that takes arguments\"\n",
    "    @abstractmethod\n",
    "    def clone(self, identifier):\n",
    "        \"\"\"The clone method, deep or shallow.\n",
    "        It is up to you how you want to implement\n",
    "        the details in your concrete class\n",
    "        \"\"\"\n",
    "\n",
    "\n",
    "class ConcreteProto(IPrototype):\n",
    "    \"1st concrete Prototype Class\"\n",
    "\n",
    "    def __init__(self, field: Any) -> None:\n",
    "        self.field = field\n",
    "\n",
    "    def clone(self) -> object:\n",
    "        \"\"\"This clone method uses a 2 level shallow copy technique\"\"\"\n",
    "        return type(self)(copy(self.field))\n",
    "\n",
    "\n",
    "class ConcreteProto2(IPrototype2):\n",
    "    \"2nd concrete Prototype Class\"\n",
    "\n",
    "    def __init__(self) -> None:\n",
    "        self.objects: Dict[str, object] = {}\n",
    "\n",
    "    def register(self, identifier: str, obj: object) -> None:\n",
    "        \"\"\"Add an object to the cloned objects dict\"\"\"\n",
    "        self.objects[identifier] = obj\n",
    "\n",
    "    def unregister(self, identifier: str) -> None:\n",
    "        \"\"\"Remove an object from the cloned objects dict\"\"\"\n",
    "        del self.objects[identifier]\n",
    "\n",
    "    def clone(self, identifier: str):\n",
    "        \"\"\"This clone method uses a deep copy technique\"\"\"\n",
    "        found = self.objects.get(identifier)\n",
    "        if not found:\n",
    "            raise ValueError(f\"Incorrect object identifier: {identifier}\")\n",
    "\n",
    "        return deepcopy(found)\n",
    "\n",
    "\n",
    "if __name__ == '__main__':\n",
    "    prototype = ConcreteProto2()\n",
    "    prototype.register('proto', prototype)\n",
    "    proto = prototype.clone('proto')"
   ]
  },
  {
   "cell_type": "markdown",
   "metadata": {},
   "source": [
    "## Tests\n",
    "\n",
    "Using `pytest`"
   ]
  },
  {
   "cell_type": "code",
   "execution_count": 12,
   "metadata": {},
   "outputs": [
    {
     "name": "stdout",
     "output_type": "stream",
     "text": [
      "Overwriting ../../tests/unit/test_prototype.py\n"
     ]
    }
   ],
   "source": [
    "%%writefile ../../tests/unit/test_prototype.py\n",
    "from collections import namedtuple\n",
    "from pypatterns import prototype\n",
    "\n",
    "\n",
    "def test_ConcreteProto():\n",
    "    proto = prototype.ConcreteProto([1,2,3,4])\n",
    "    proto2 = proto.clone()\n",
    "    proto3 = proto2.clone()\n",
    "    assert proto.field == proto2.field == proto3.field\n",
    "    assert proto != proto2 != proto3\n",
    "\n",
    "def test_ConcreteProto2():\n",
    "    point = namedtuple('Point', 'x y')\n",
    "    proto = prototype.ConcreteProto2()\n",
    "\n",
    "    id1 = 'Point'\n",
    "    id2 = 'CP-1'\n",
    "    id3 = 'CP-2'\n",
    "    id4 = 'CP-3'\n",
    "\n",
    "    proto.register(id1, point)\n",
    "    assert id1 in proto.objects\n",
    "\n",
    "    proto.register(id2, proto)\n",
    "    assert id2 in proto.objects\n",
    "\n",
    "    for key in (id3, id4):\n",
    "        proto.register(key, proto.clone(id2))\n",
    "\n",
    "    assert proto.objects[id2] != proto.objects[id3] != proto.objects[id4]\n",
    "    assert '' not in proto.objects\n",
    "\n",
    "    for key in (id1, id2, id3, id4):\n",
    "        proto.unregister(key)\n",
    "        assert key not in proto.objects\n",
    "\n",
    "    assert len(proto.objects) == 0"
   ]
  },
  {
   "cell_type": "code",
   "execution_count": 11,
   "metadata": {},
   "outputs": [
    {
     "name": "stdout",
     "output_type": "stream",
     "text": [
      "Overwriting ../../tests/func/test_prototype_exceptions.py\n"
     ]
    }
   ],
   "source": [
    "%%writefile ../../tests/func/test_prototype_exceptions.py\n",
    "from pypatterns import prototype\n",
    "from pytest import raises\n",
    "\n",
    "def test_objects_raises():\n",
    "    with raises(KeyError):\n",
    "        prototype.ConcreteProto2().objects['invalid']\n",
    "\n",
    "def test_clone_raises():\n",
    "    with raises(ValueError) as e:\n",
    "        prototype.ConcreteProto2().clone('invalid')\n",
    "    \n",
    "    assert e.value.args[0] == \"Incorrect object identifier: invalid\""
   ]
  },
  {
   "cell_type": "code",
   "execution_count": 1,
   "metadata": {},
   "outputs": [
    {
     "name": "stdout",
     "output_type": "stream",
     "text": [
      "...                                                                      [100%]\n",
      "3 passed in 0.03s\n"
     ]
    }
   ],
   "source": [
    "%run -m pytest ../../tests/unit/test_prototype.py ../../tests/func/test_prototype_exceptions.py\n"
   ]
  },
  {
   "cell_type": "markdown",
   "metadata": {},
   "source": [
    "# Project implementation\n",
    "\n",
    "A simple project implementation using the Prototype pattern."
   ]
  },
  {
   "cell_type": "markdown",
   "metadata": {},
   "source": [
    "## `rts.py`\n",
    "\n",
    "description"
   ]
  },
  {
   "cell_type": "code",
   "execution_count": 1,
   "metadata": {},
   "outputs": [
    {
     "name": "stdout",
     "output_type": "stream",
     "text": [
      "Overwriting ../examples/creational/rts.py\n"
     ]
    }
   ],
   "source": [
    "%%writefile ../examples/creational/rts.py\n",
    "from pypatterns import prototype\n",
    "\n",
    "\n",
    "class RTS:\n",
    "    pass"
   ]
  },
  {
   "cell_type": "markdown",
   "metadata": {},
   "source": [
    "## Functional Test\n",
    "\n",
    "Using `pytest`"
   ]
  },
  {
   "cell_type": "code",
   "execution_count": 10,
   "metadata": {},
   "outputs": [
    {
     "name": "stdout",
     "output_type": "stream",
     "text": [
      "Overwriting ../../tests/func/test_rts.py\n"
     ]
    }
   ],
   "source": [
    "%%writefile ../../tests/func/test_rts.py\n",
    "from pypatterns import rts\n",
    "\n",
    "def test_rts():\n",
    "    pass"
   ]
  },
  {
   "cell_type": "code",
   "execution_count": 5,
   "metadata": {},
   "outputs": [
    {
     "name": "stdout",
     "output_type": "stream",
     "text": [
      ".                                                                        [100%]\n",
      "1 passed in 0.01s\n"
     ]
    }
   ],
   "source": [
    "%run -m pytest ../../tests/func/test_rts.py"
   ]
  }
 ],
 "metadata": {
  "interpreter": {
   "hash": "31f2aee4e71d21fbe5cf8b01ff0e069b9275f58929596ceb00d14d90e3e16cd6"
  },
  "kernelspec": {
   "display_name": "Python 3.8.5 64-bit",
   "name": "python3"
  },
  "language_info": {
   "codemirror_mode": {
    "name": "ipython",
    "version": 3
   },
   "file_extension": ".py",
   "mimetype": "text/x-python",
   "name": "python",
   "nbconvert_exporter": "python",
   "pygments_lexer": "ipython3",
   "version": "3.8.5"
  },
  "orig_nbformat": 4
 },
 "nbformat": 4,
 "nbformat_minor": 2
}
