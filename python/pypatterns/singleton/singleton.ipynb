{
 "cells": [
  {
   "cell_type": "markdown",
   "metadata": {},
   "source": [
    "This notebook was prepared by [SentinelWarren](https://github.com/sentinelwarren). Source and license info is on [GitHub](https://github.com/sentinelwarren/patterns-in-langs)."
   ]
  },
  {
   "cell_type": "markdown",
   "metadata": {},
   "source": [
    "# Singleton Pattern"
   ]
  },
  {
   "cell_type": "markdown",
   "metadata": {},
   "source": [
    "## Description\n",
    "\n",
    "Is a way to provide one and only one object of a particular type. The Singleton class can have only one instance, and provides global access to that one instance.\n",
    "\n",
    "Due to its instantiation restrictions of a class to one object, this pattern is useful when you need one object to coordinate actions for the system.\n",
    "\n",
    "The basic idea is that only one instance of a particular class, doing a job, is created for the needs of the program. To ensure that this works, we need mechanisms that prevent the instantiation of the class more than once and also prevent cloning."
   ]
  },
  {
   "cell_type": "markdown",
   "metadata": {},
   "source": [
    "## Singleton in the wild\n",
    "\n",
    "Singleton pattern can be used to implement projects that do not affect the execution of code, hence its acceptable to use global state. The kinds of projects are;\n",
    "\n",
    "* Logging\n",
    "* Caching\n",
    "* Load balancing\n",
    "* Route mapping\n",
    "\n",
    "In all these cases,information flows in one direction, and the singleton instance itself is immutable (it does not change).\n",
    "No part of the program attempts to make a change in the singleton, and as such there is no danger of one part of a project interfering with another part of the project because of the shared state.\n",
    "\n",
    "### Example projects\n",
    "\n",
    "* Plone CMS"
   ]
  },
  {
   "cell_type": "markdown",
   "metadata": {},
   "source": [
    "## Pros & Cons\n",
    "\n",
    "### Pros\n",
    "\n",
    "* Access to global state, making a Singleton instance to be immutable.\n",
    "\n",
    "### Cons | Drawbacks\n",
    "\n",
    "* Possibility of coupling your code to itself in very unfortunate ways, causing unexpected results in completely unrelated piece of code."
   ]
  },
  {
   "cell_type": "markdown",
   "metadata": {},
   "source": [
    "## Use cases\n",
    "\n",
    "* Maintaining a global state of a program\n",
    "\n",
    "* Controlling concurrent access to a shared resource. For example, the class managing the connection to a database.\n",
    "\n",
    "* A service or resource that is transversal in the sense that it can be accessed from different parts of the application or by different users and do its work. For example, the class at the core of the logging system or utility."
   ]
  },
  {
   "cell_type": "markdown",
   "metadata": {},
   "source": [
    "## Implementation\n",
    "\n",
    "* Using metaclass and its type, having predefined the `Singleton` metaclass.\n",
    "* As required, the metaclass's `__call__()` method holds the code that ensures that only one instance of the class can be created.\n",
    "\n",
    "### Test cases\n",
    "\n",
    "#### Unit\n",
    "\n",
    "* `len(SingletonClass().instances) == 0`\n",
    "* `SingletonClass() == SingletonClass()`\n",
    "* `SingletonClass().attributes == SingletonClass().attributes`\n",
    "* `len(SingletonClass().instances) == 1`\n",
    "* `len(SingletonClass().instances) >= 1`\n",
    "\n",
    "#### Functional\n",
    "\n",
    "* `Singleton().instances['invalid'] raise KeyError`"
   ]
  },
  {
   "cell_type": "code",
   "execution_count": 2,
   "metadata": {},
   "outputs": [
    {
     "name": "stdout",
     "output_type": "stream",
     "text": [
      "Overwriting singleton.py\n"
     ]
    }
   ],
   "source": [
    "%%writefile singleton.py\n",
    "from typing import Dict\n",
    "\n",
    "\n",
    "class Singleton(type):\n",
    "    _instances: Dict[str, object] = dict()\n",
    "\n",
    "    def __call__(cls, *args: object, **kwargs: object) -> object:\n",
    "        if str(cls) not in cls._instances:\n",
    "            cls._instances[str(cls)] = super(Singleton,\n",
    "            cls).__call__(*args, **kwargs)\n",
    "\n",
    "        return cls._instances[str(cls)]\n",
    "\n",
    "\n",
    "class FooTone(metaclass=Singleton):\n",
    "    def __init__(self, arg: str) -> None:\n",
    "        self.attribute = arg\n",
    "\n",
    "    def __repr__(self) -> str:\n",
    "        return (\n",
    "            f\"<class {self.__class__.__name__}(\"\n",
    "            f\"{self.attribute!r}) \"\n",
    "            f\"at {hex(id(self))}>\"\n",
    "        )"
   ]
  },
  {
   "cell_type": "markdown",
   "metadata": {},
   "source": [
    "## Tests\n",
    "\n",
    "Using `pytest`"
   ]
  },
  {
   "cell_type": "code",
   "execution_count": 1,
   "metadata": {},
   "outputs": [
    {
     "name": "stdout",
     "output_type": "stream",
     "text": [
      "Overwriting ../../tests/unit/test_singleton.py\n"
     ]
    }
   ],
   "source": [
    "%%writefile ../../tests/unit/test_singleton.py\n",
    "from pypatterns import Singleton, FooTone, Logger\n",
    "\n",
    "\n",
    "foo = \"<class 'patterns.singleton.singleton.FooTone'>\"\n",
    "logger = \"<class 'patterns.singleton.logger.Logger'>\"\n",
    "\n",
    "def instantiate_foo(arg):\n",
    "    return FooTone(arg)\n",
    "\n",
    "def instantiate_logger(arg):\n",
    "    return Logger(arg)\n",
    "\n",
    "def delete_instance(name):\n",
    "    if name in Singleton._instances.keys():\n",
    "        del Singleton._instances[name]\n",
    "\n",
    "def test_global_state():\n",
    "    foo1 = instantiate_foo(\"some_attr\")\n",
    "    foo2 = instantiate_foo(\"diff_attr\")\n",
    "    assert foo1 == foo2\n",
    "    assert foo1.attribute == foo2.attribute\n",
    "\n",
    "    foo2.attribute = \"another_attr\"\n",
    "    assert foo1.attribute == foo2.attribute\n",
    "\n",
    "def test_empty_instances():\n",
    "    Singleton._instances.clear()\n",
    "    \n",
    "    assert len(Singleton._instances) == 0\n",
    "    assert logger, foo not in Singleton._instances\n",
    "\n",
    "def test_all_instances():\n",
    "    if logger not in Singleton._instances:\n",
    "        instantiate_logger(\"file.log\")\n",
    "    \n",
    "    if foo not in Singleton._instances:\n",
    "        instantiate_foo(\"some_attr\")\n",
    "    \n",
    "    assert len(Singleton._instances) == 2\n",
    "    assert foo, logger in Singleton._instances\n",
    "\n",
    "def test_logger_instance():\n",
    "    delete_instance(foo)\n",
    "    \n",
    "    assert len(Singleton._instances) == 1\n",
    "    assert logger in Singleton._instances\n",
    "\n",
    "def test_foo_instance():\n",
    "    instantiate_foo(\"some_attr\")\n",
    "    delete_instance(logger)\n",
    "    \n",
    "    assert len(Singleton._instances) == 1\n",
    "    assert foo in Singleton._instances"
   ]
  },
  {
   "cell_type": "code",
   "execution_count": 2,
   "metadata": {},
   "outputs": [
    {
     "name": "stdout",
     "output_type": "stream",
     "text": [
      "Overwriting ../../tests/func/test_singleton_exceptions.py\n"
     ]
    }
   ],
   "source": [
    "%%writefile ../../tests/func/test_singleton_exceptions.py\n",
    "from pypatterns import Singleton\n",
    "from pytest import raises\n",
    "\n",
    "def test_instances_raises():\n",
    "    with raises(KeyError):\n",
    "        Singleton._instances['invalid']"
   ]
  },
  {
   "cell_type": "code",
   "execution_count": 1,
   "metadata": {},
   "outputs": [
    {
     "name": "stdout",
     "output_type": "stream",
     "text": [
      "......                                                                   [100%]\n",
      "6 passed in 0.06s\n"
     ]
    }
   ],
   "source": [
    "%run -m pytest ../../tests/unit/test_singleton.py ../../tests/func/test_singleton_exceptions.py"
   ]
  },
  {
   "cell_type": "markdown",
   "metadata": {},
   "source": [
    "# Project implementation\n",
    "\n",
    "A simple project implementation using the Singleton pattern."
   ]
  },
  {
   "cell_type": "markdown",
   "metadata": {},
   "source": [
    "## `logger.py`\n",
    "\n",
    "A simple logging module that keeps track of the `.log` file state, writes specific logging messages to the log file accordingly, and reads the contents of the log file."
   ]
  },
  {
   "cell_type": "code",
   "execution_count": 3,
   "metadata": {},
   "outputs": [
    {
     "name": "stdout",
     "output_type": "stream",
     "text": [
      "Overwriting logger.py\n"
     ]
    }
   ],
   "source": [
    "%%writefile logger.py\n",
    "from pypatterns import Singleton\n",
    "from typing import Any\n",
    "\n",
    "\n",
    "class Logger(metaclass=Singleton):\n",
    "    def __init__(self, file_name: str) -> None:\n",
    "        self.file_name = file_name\n",
    "\n",
    "    def _write_log(self, level: str, msg: Any) -> None:\n",
    "        with open(self.file_name, \"a\") as log_file:\n",
    "            log_file.write(f\"[{level}] {msg}\\n\")\n",
    "\n",
    "    def _read_log(self) -> str:\n",
    "        with open(self.file_name, \"r\") as log_file:\n",
    "            return log_file.read()\n",
    "\n",
    "    def critical(self, msg: Any) -> None:\n",
    "        self._write_log('CRITICAL', msg)\n",
    "    \n",
    "    def error(self, msg: Any) -> None:\n",
    "        self._write_log('ERROR', msg)\n",
    "\n",
    "    def warn(self, msg: Any) -> None:\n",
    "        self._write_log('WARNING', msg)\n",
    "\n",
    "    def info(self, msg: Any) -> None:\n",
    "        self._write_log('INFO', msg)\n",
    "\n",
    "    def debug(self, msg: Any) -> None:\n",
    "        self._write_log('DEBUG', msg)\n",
    "\n",
    "    def print_log(self) -> None:\n",
    "        print(self._read_log())\n",
    "\n",
    "    def __repr__(self) -> str:\n",
    "        return (\n",
    "            f\"<class {self.__class__.__name__}(\"\n",
    "            f\"{self.file_name!r}) \"\n",
    "            f\"at {hex(id(self))}>\"\n",
    "        )\n",
    "\n",
    "\n",
    "\n",
    "if __name__ == '__main__':\n",
    "    logger = Logger(\"class_logger.log\")\n",
    "    logger.warn('AE-35 hardware failure predicted!')\n",
    "    logger.print_log()\n",
    "    "
   ]
  },
  {
   "cell_type": "markdown",
   "metadata": {},
   "source": [
    "## Functional Test\n",
    "\n",
    "Using `pytest`"
   ]
  },
  {
   "cell_type": "code",
   "execution_count": 4,
   "metadata": {},
   "outputs": [
    {
     "name": "stdout",
     "output_type": "stream",
     "text": [
      "Overwriting ../../tests/func/test_logger.py\n"
     ]
    }
   ],
   "source": [
    "%%writefile ../../tests/func/test_logger.py\n",
    "from pypatterns import Logger\n",
    "\n",
    "\n",
    "def test_methods_return(tmpdir_factory):\n",
    "    tmp = tmpdir_factory.mktemp(\"func\")\n",
    "    logger = Logger(tmp.join(\"logger.log\"))\n",
    "    expected = None\n",
    "\n",
    "    assert logger.critical(\"This is a critical message\") == expected\n",
    "    assert logger.error(\"This is an error message\") == expected\n",
    "    assert logger.warn(\"This is a warning message\") == expected\n",
    "    assert logger.info(\"This is an info message\") == expected\n",
    "    assert logger.debug(\"This is a debugging message\") == expected\n",
    "    assert logger.print_log() == expected\n",
    "\n",
    "def test_log_output():\n",
    "    expected_log = (\n",
    "        f\"[CRITICAL] This is a critical message\\n\"\n",
    "        f\"[ERROR] This is an error message\\n\"\n",
    "        f\"[WARNING] This is a warning message\\n\"\n",
    "        f\"[INFO] This is an info message\\n\"\n",
    "        f\"[DEBUG] This is a debugging message\\n\"\n",
    "    )\n",
    "    assert Logger(\"logger.log\")._read_log() == expected_log"
   ]
  },
  {
   "cell_type": "code",
   "execution_count": 1,
   "metadata": {},
   "outputs": [
    {
     "name": "stdout",
     "output_type": "stream",
     "text": [
      "..                                                                       [100%]\n",
      "2 passed in 0.03s\n"
     ]
    }
   ],
   "source": [
    "%run -m pytest ../../tests/func/test_logger.py"
   ]
  }
 ],
 "metadata": {
  "interpreter": {
   "hash": "916dbcbb3f70747c44a77c7bcd40155683ae19c65e1c03b4aa3499c5328201f1"
  },
  "kernelspec": {
   "display_name": "Python 3.8.5 64-bit",
   "name": "python3"
  },
  "language_info": {
   "codemirror_mode": {
    "name": "ipython",
    "version": 3
   },
   "file_extension": ".py",
   "mimetype": "text/x-python",
   "name": "python",
   "nbconvert_exporter": "python",
   "pygments_lexer": "ipython3",
   "version": "3.8.5"
  },
  "orig_nbformat": 4
 },
 "nbformat": 4,
 "nbformat_minor": 2
}
