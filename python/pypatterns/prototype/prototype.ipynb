{
 "cells": [
  {
   "cell_type": "markdown",
   "metadata": {},
   "source": [
    "This notebook was prepared by [SentinelWarren](https://github.com/sentinelwarren). Source and license info is on [GitHub](https://github.com/sentinelwarren/patterns-in-langs)."
   ]
  },
  {
   "cell_type": "markdown",
   "metadata": {},
   "source": [
    "# Prototype Pattern"
   ]
  },
  {
   "cell_type": "markdown",
   "metadata": {},
   "source": [
    "## Description\n",
    "\n",
    "Is just a `clone()` function that accepts an object as an input parameter and returns a clone of it."
   ]
  },
  {
   "cell_type": "markdown",
   "metadata": {},
   "source": [
    "## Prototype in the wild\n",
    "\n",
    "### Example projects"
   ]
  },
  {
   "cell_type": "markdown",
   "metadata": {},
   "source": [
    "## Pros & Cons\n",
    "\n",
    "### Pros\n",
    "\n",
    "### Cons | Drawbacks"
   ]
  },
  {
   "cell_type": "markdown",
   "metadata": {},
   "source": [
    "## Use cases"
   ]
  },
  {
   "cell_type": "markdown",
   "metadata": {},
   "source": [
    "## Implementation\n",
    "\n",
    "### Test cases\n",
    "\n",
    "#### Unit\n",
    "\n",
    "* `ids in Prototype.objects`\n",
    "* `Prototype.objects[id] != Prototype.objects[id]`\n",
    "* `'' not in Prototype.objects`\n",
    "* `key not in Prototype.objects`\n",
    "* `len(Prototype.objects) == 0`\n",
    "\n",
    "#### Functional\n",
    "\n",
    "* `Prototype().objects['invalid'] raise KeyError`\n",
    "* `Prototype().clone['invalid'] raise ValueError`"
   ]
  },
  {
   "cell_type": "code",
   "execution_count": 13,
   "metadata": {},
   "outputs": [
    {
     "name": "stdout",
     "output_type": "stream",
     "text": [
      "Overwriting prototype.py\n"
     ]
    }
   ],
   "source": [
    "%%writefile prototype.py\n",
    "from copy import deepcopy\n",
    "from typing import Dict\n",
    "from abc import ABCMeta, abstractmethod\n",
    "\n",
    "\n",
    "class Prototype(metaclass=ABCMeta):\n",
    "    @abstractmethod\n",
    "    def clone(self):\n",
    "        pass\n",
    "\n",
    "\n",
    "class ConcreteProto(Prototype):\n",
    "    def __init__(self) -> None:\n",
    "        self.objects: Dict[str, object] = dict()\n",
    "    \n",
    "    def register(self, identifier: str, obj: object) -> None:\n",
    "        self.objects[identifier] = obj\n",
    "\n",
    "    def unregister(self, identifier: str) -> None:\n",
    "        del self.objects[identifier]\n",
    "\n",
    "    def clone(self, identifier: str) -> object:\n",
    "        found = self.objects.get(identifier)\n",
    "        if not found:\n",
    "            raise ValueError(f\"Incorrect object identifier: {identifier}\")\n",
    "        \n",
    "        return deepcopy(found)\n",
    "\n",
    "    \n",
    "if __name__ == '__main__':\n",
    "    prototype = ConcreteProto()\n",
    "    prototype.clone('test')"
   ]
  },
  {
   "cell_type": "markdown",
   "metadata": {},
   "source": [
    "## Tests\n",
    "\n",
    "Using `pytest`"
   ]
  },
  {
   "cell_type": "code",
   "execution_count": 2,
   "metadata": {},
   "outputs": [
    {
     "name": "stdout",
     "output_type": "stream",
     "text": [
      "Overwriting ../../tests/unit/test_prototype.py\n"
     ]
    }
   ],
   "source": [
    "%%writefile ../../tests/unit/test_prototype.py\n",
    "from pypatterns import ConcreteProto\n",
    "from collections import namedtuple\n",
    "\n",
    "\n",
    "def test_prototype():\n",
    "    point = namedtuple('Point', 'x y')\n",
    "    prototype = ConcreteProto()\n",
    "    \n",
    "    id1 = 'Point'\n",
    "    id2 = 'CP-1'\n",
    "    id3 = 'CP-2'\n",
    "    id4 = 'CP-3'\n",
    "\n",
    "    prototype.register(id1, point)\n",
    "    assert id1 in prototype.objects\n",
    "\n",
    "    prototype.register(id2, prototype)\n",
    "    assert id2 in prototype.objects\n",
    "\n",
    "    for key in (id3, id4):\n",
    "        prototype.register(key, prototype.clone(id2))\n",
    "\n",
    "    assert prototype.objects[id2] != prototype.objects[id3] != prototype.objects[id4]\n",
    "    assert '' not in prototype.objects\n",
    "    \n",
    "    for key in (id1, id2, id3, id4):\n",
    "        prototype.unregister(key)\n",
    "        assert key not in prototype.objects\n",
    "\n",
    "    assert len(prototype.objects) == 0"
   ]
  },
  {
   "cell_type": "code",
   "execution_count": 1,
   "metadata": {},
   "outputs": [
    {
     "name": "stdout",
     "output_type": "stream",
     "text": [
      "Overwriting ../../tests/func/test_prototype_exceptions.py\n"
     ]
    }
   ],
   "source": [
    "%%writefile ../../tests/func/test_prototype_exceptions.py\n",
    "from pypatterns import ConcreteProto\n",
    "from pytest import raises\n",
    "\n",
    "def test_objects_raises():\n",
    "    with raises(KeyError):\n",
    "        ConcreteProto().objects['invalid']\n",
    "\n",
    "def test_clone_raises():\n",
    "    with raises(ValueError) as e:\n",
    "        ConcreteProto().clone('invalid')\n",
    "    \n",
    "    assert e.value.args[0] == \"Incorrect object identifier: invalid\""
   ]
  },
  {
   "cell_type": "code",
   "execution_count": 1,
   "metadata": {},
   "outputs": [
    {
     "name": "stdout",
     "output_type": "stream",
     "text": [
      "...                                                                      [100%]\n",
      "3 passed in 0.03s\n"
     ]
    }
   ],
   "source": [
    "%run -m pytest ../../tests/unit/test_prototype.py ../../tests/func/test_prototype_exceptions.py\n"
   ]
  },
  {
   "cell_type": "markdown",
   "metadata": {},
   "source": [
    "# Project implementation\n",
    "\n",
    "A simple project implementation using the Prototype pattern."
   ]
  },
  {
   "cell_type": "markdown",
   "metadata": {},
   "source": [
    "## `rts.py`\n",
    "\n",
    "description"
   ]
  },
  {
   "cell_type": "code",
   "execution_count": 4,
   "metadata": {},
   "outputs": [
    {
     "name": "stdout",
     "output_type": "stream",
     "text": [
      "Overwriting rts.py\n"
     ]
    }
   ],
   "source": [
    "%%writefile rts.py\n",
    "from pypatterns import Prototype\n",
    "\n",
    "\n",
    "class RTS:\n",
    "    pass"
   ]
  },
  {
   "cell_type": "markdown",
   "metadata": {},
   "source": [
    "## Functional Test\n",
    "\n",
    "Using `pytest`"
   ]
  },
  {
   "cell_type": "code",
   "execution_count": 5,
   "metadata": {},
   "outputs": [
    {
     "name": "stdout",
     "output_type": "stream",
     "text": [
      "Overwriting ../../tests/func/test_rts.py\n"
     ]
    }
   ],
   "source": [
    "%%writefile ../../tests/func/test_rts.py\n",
    "from pypatterns import RTS\n",
    "\n",
    "def test_rts():\n",
    "    pass"
   ]
  },
  {
   "cell_type": "code",
   "execution_count": 5,
   "metadata": {},
   "outputs": [
    {
     "name": "stdout",
     "output_type": "stream",
     "text": [
      ".                                                                        [100%]\n",
      "1 passed in 0.01s\n"
     ]
    }
   ],
   "source": [
    "%run -m pytest ../../tests/func/test_rts.py"
   ]
  }
 ],
 "metadata": {
  "interpreter": {
   "hash": "31f2aee4e71d21fbe5cf8b01ff0e069b9275f58929596ceb00d14d90e3e16cd6"
  },
  "kernelspec": {
   "display_name": "Python 3.8.5 64-bit",
   "name": "python3"
  },
  "language_info": {
   "codemirror_mode": {
    "name": "ipython",
    "version": 3
   },
   "file_extension": ".py",
   "mimetype": "text/x-python",
   "name": "python",
   "nbconvert_exporter": "python",
   "pygments_lexer": "ipython3",
   "version": "3.8.5"
  },
  "orig_nbformat": 4
 },
 "nbformat": 4,
 "nbformat_minor": 2
}
