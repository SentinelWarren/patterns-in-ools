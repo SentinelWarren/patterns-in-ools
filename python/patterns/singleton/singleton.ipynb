{
 "cells": [
  {
   "cell_type": "markdown",
   "metadata": {},
   "source": [
    "This notebook was prepared by [SentinelWarren](https://github.com/sentinelwarren). Source and license info is on [GitHub](https://github.com/sentinelwarren/patterns-in-various-langs)."
   ]
  },
  {
   "cell_type": "markdown",
   "metadata": {},
   "source": [
    "# Singleton Pattern"
   ]
  },
  {
   "cell_type": "markdown",
   "metadata": {},
   "source": [
    "## Description\n",
    "\n",
    "Is a way to provide one and only one object of a particular type. The Singleton class can have only one instance, and provides global access to that one instance.\n",
    "\n",
    "Due to its instantiation restrictions of a class to one object, this pattern is useful when you need one object to coordinate actions for the system.\n",
    "\n",
    "The basic idea is that only one instance of a particular class, doing a job, is created for the needs of the program. To ensure that this works, we need mechanisms that prevent the instantiation of the class more than once and also prevent cloning."
   ]
  },
  {
   "cell_type": "markdown",
   "metadata": {},
   "source": [
    "## Singleton in the wild\n",
    "\n",
    "Singleton pattern can be used to implement projects that do not affect the execution of code, hence its acceptable to use global state. The kinds of projects are;\n",
    "\n",
    "* Logging\n",
    "* Caching\n",
    "* Load balancing\n",
    "* Route mapping\n",
    "\n",
    "In all these cases,information flows in one direction, and the singleton instance itself is immutable (it does not change).\n",
    "No part of the program attempts to make a change in the singleton, and as such there is no danger of one part of a project interfering with another part of the project because of the shared state.\n",
    "\n",
    "### Example projects\n",
    "\n",
    "* Plone CMS"
   ]
  },
  {
   "cell_type": "markdown",
   "metadata": {},
   "source": [
    "## Pros & Cons\n",
    "\n",
    "### Pros\n",
    "\n",
    "* Global state.\n",
    "* A Singleton instance is immutable.\n",
    "\n",
    "### Cons | Drawbacks\n",
    "\n",
    "* Possibility of coupling your code to itself in very unfortunate ways, causing unexpected results in completely unrelated piece of code."
   ]
  },
  {
   "cell_type": "markdown",
   "metadata": {},
   "source": [
    "## Use cases\n",
    "\n",
    "* Maintaining a global state of a program\n",
    "\n",
    "* Controlling concurrent access to a shared resource. For example, the class managing the connection to a database.\n",
    "\n",
    "* A service or resource that is transversal in the sense that it can be accessed from different parts of the application or by different users and do its work. For example, the class at the core of the logging system or utility."
   ]
  },
  {
   "cell_type": "markdown",
   "metadata": {},
   "source": [
    "## Test cases\n",
    "\n",
    "* `len(SingletonClass().instances) == 0`\n",
    "* `SingletonClass() == SingletonClass()`\n",
    "* `len(SingletonClass().instances) == 1`\n",
    "* `SingletonClass().attribute == SingletonClass().attribute`"
   ]
  },
  {
   "cell_type": "markdown",
   "metadata": {},
   "source": [
    "## Implementation\n",
    "\n",
    "* Using metaclass and its type, having predefined the `Singleton` metaclass.\n",
    "* As required, the metaclass's `__call__()` method holds the code that ensures that only one instance of the class can be created."
   ]
  },
  {
   "cell_type": "markdown",
   "metadata": {},
   "source": [
    "## Code"
   ]
  },
  {
   "cell_type": "code",
   "execution_count": null,
   "metadata": {},
   "outputs": [],
   "source": [
    "from typing import Any, Dict\n",
    "\n",
    "\n",
    "class Singleton(type):\n",
    "    _instances = dict()\n",
    "\n",
    "    def __call__(cls, *args: Any, **kwargs: Any) -> Dict[Any, str]:\n",
    "        if cls not in cls._instances:\n",
    "            cls._instances[cls] = super(Singleton,\n",
    "            cls).__call__(*args, **kwargs)\n",
    "\n",
    "        return cls._instances[cls]\n",
    "\n",
    "\n",
    "class Logger(metaclass=Singleton):\n",
    "    def __init__(self, file_name: str) -> None:\n",
    "        self.file_name = file_name\n",
    "\n",
    "    def _write_log(self, level: str, msg: str) -> None:\n",
    "        with open(self.file_name, \"a\") as log_file:\n",
    "            log_file.write(f\"[{level}] {msg}\\n\")\n",
    "\n",
    "    def critical(self, msg: str) -> None:\n",
    "        self._write_log(\"CRITICAL\", msg)\n",
    "    \n",
    "    def error(self, msg: str) -> None:\n",
    "        self._write_log(\"ERROR\", msg)\n",
    "\n",
    "    def warn(self, msg: str) -> None:\n",
    "        self._write_log(\"WARNING\", msg)\n",
    "\n",
    "    def info(self, msg: str) -> None:\n",
    "        self._write_log(\"INFO\", msg)\n",
    "\n",
    "    def debug(self, msg: str) -> None:\n",
    "        self._write_log(\"DEBUG\", msg)\n",
    "\n",
    "    def read(self):\n",
    "        with open(self.file_name, \"r\") as log_file:\n",
    "            return log_file.read()\n",
    "\n",
    "    def __repr__(self) -> str:\n",
    "        return (\n",
    "            f\"{self.__class__.__name__}(\"\n",
    "            f\"{self.file_name}, \"\n",
    "            f\"{self.__class__.mro})\")"
   ]
  },
  {
   "cell_type": "markdown",
   "metadata": {},
   "source": [
    "## Unit Test"
   ]
  },
  {
   "cell_type": "code",
   "execution_count": 1,
   "metadata": {},
   "outputs": [
    {
     "name": "stdout",
     "output_type": "stream",
     "text": [
      "============================= test session starts ==============================\n",
      "platform linux -- Python 3.8.5, pytest-6.2.2, py-1.10.0, pluggy-0.13.1\n",
      "rootdir: /home/wartr3x/repos/aio/projects/patterns-in-various-langs/python\n",
      "plugins: web3-5.17.0\n",
      "collected 1 item\n",
      "\n",
      "../../tests/unit/test_singleton.py .                                     [100%]\n",
      "\n",
      "============================== 1 passed in 0.03s ===============================\n"
     ]
    }
   ],
   "source": [
    "%run -m  pytest ../../tests/unit/test_singleton.py"
   ]
  }
 ],
 "metadata": {
  "interpreter": {
   "hash": "31f2aee4e71d21fbe5cf8b01ff0e069b9275f58929596ceb00d14d90e3e16cd6"
  },
  "kernelspec": {
   "display_name": "Python 3.8.5 64-bit",
   "name": "python3"
  },
  "language_info": {
   "codemirror_mode": {
    "name": "ipython",
    "version": 3
   },
   "file_extension": ".py",
   "mimetype": "text/x-python",
   "name": "python",
   "nbconvert_exporter": "python",
   "pygments_lexer": "ipython3",
   "version": "3.8.5"
  },
  "orig_nbformat": 4
 },
 "nbformat": 4,
 "nbformat_minor": 2
}
